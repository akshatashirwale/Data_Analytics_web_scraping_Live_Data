{
 "cells": [
  {
   "cell_type": "markdown",
   "metadata": {},
   "source": [
    "<h1><center>Data Analysis Web Scraping</center></h1>"
   ]
  },
  {
   "cell_type": "markdown",
   "metadata": {},
   "source": [
    "\n",
    "\n",
    "### What is Web Scraping?\n",
    "\n",
    "Web scraping is a computer software technique of extracting information from websites. This technique mostly focuses on the transformation of unstructured data (HTML format) on the web into structured data (database or spreadsheet).\n",
    "\n",
    "We can perform web scraping in various ways, including use of Google Docs to almost every programming language. \n"
   ]
  },
  {
   "cell_type": "markdown",
   "metadata": {},
   "source": [
    "### Now the question is how do we get data from websites?\n",
    "\n",
    "When any web scraping code is run the request is sent to the URL that you have mentioned. The website responds to the request by sending data and allows it to read the XML or HTML page. The code will then extract the required data from that XML or HTML page.\n",
    "\n",
    "Any web scraping code you need to follow the basic steps:\n",
    "\n",
    "1. Find the URL(address) of web page you want to scrape\n",
    "2. Inspect the page and find the data you want to extract\n",
    "3. Write the logic for extracting the data\n",
    "4. Store extracted data into structured form(E.g. Pandas DataFrame)\n",
    "\n",
    "Now we’ll perform web scraping with various libraries and framework."
   ]
  },
  {
   "cell_type": "markdown",
   "metadata": {},
   "source": [
    "### Step-by-Step process to Scrape Data From A Website:\n",
    "\n",
    "Web scraping is gaining data from web pages using HTML parsing. Something data is available in CSV or JSON format from some websites, but this is not always the case, causing the use of web scraping.\n",
    "\n",
    "When you run the web scraping code, it sends a request to the URL you specified. The server provides the data in response to your request, allowing you to see the HTML or XML page. The code then parses the HTML or XML page, locating and extracting the data."
   ]
  },
  {
   "cell_type": "markdown",
   "metadata": {},
   "source": [
    "### Why is python used for web scraping?\n",
    "\n",
    "1) Python includes many libraries, such as Numpy, Matplotlib, Pandas, and others, that provide methods and functions for a variety of uses. As a result, it’s suitable for web crawling and additional data manipulation.\n",
    "\n",
    "2) Python is an easy language to program in. There are no semi-colons “;” or curly-braces “{}” required anywhere. So it is easier to use and less noisy.\n",
    "\n",
    "3) Dynamically typed: You don’t have to define data types for variables in Python; you can just use them wherever they’re needed. This saves you time and speeds up your work.\n",
    "\n",
    "4) Small code, long process: Web scraping is a technique for saving time. But what good is it if you waste more time writing code? You don’t have to, though. We can write small codes in Python to accomplish large tasks. As a result, even while writing the code, you save time.\n",
    "\n",
    "5) Python syntax is simple to learn because reading Python code is quite understandable compared to reading a statement in English. Python’s indentation helps the user distinguish between distinct scopes/blocks in the code, making it expressive and easy to understand."
   ]
  },
  {
   "cell_type": "markdown",
   "metadata": {},
   "source": [
    "### Libraries used for Web Scraping in Python\n",
    "\n",
    "You’ll come across multiple libraries and frameworks in Python for web scraping. \n",
    "\n",
    "**Here are three popular Libraries**\n",
    "\n",
    "##### BeautifulSoup\n",
    "\n",
    "- BeautifulSoup is an amazing parsing library in Python that enables the web scraping from HTML and XML documents.\n",
    "\n",
    "- BeautifulSoup automatically detects encodings and gracefully handles HTML documents even with special characters. We can navigate a parsed document and find what we need which makes it quick and painless to extract the data from the webpages.\n",
    "\n",
    "##### Scrapy\n",
    "\n",
    "- Scrapy is a Python framework for large scale web scraping. It gives you all the tools you need to efficiently extract data from websites, process them as you want, and store them in your preferred structure and format.\n",
    "\n",
    "##### Selenium\n",
    "\n",
    "- Selenium is another popular tool for automating browsers. It’s primarily used for testing in the industry but is also very handy for web scraping. "
   ]
  },
  {
   "cell_type": "markdown",
   "metadata": {},
   "source": [
    "# Implementation using BeautifulSoup"
   ]
  },
  {
   "cell_type": "markdown",
   "metadata": {},
   "source": [
    "**Install BeautifulSoup:** pip install beautifulsoup4"
   ]
  },
  {
   "cell_type": "code",
   "execution_count": 1,
   "metadata": {},
   "outputs": [],
   "source": [
    "import requests  # Importing the requests library for making HTTP requests\n",
    "import pandas as pd  # Importing the pandas library for data manipulation\n",
    "from bs4 import BeautifulSoup  # Importing BeautifulSoup for web scraping"
   ]
  },
  {
   "cell_type": "markdown",
   "metadata": {},
   "source": [
    "- Get URL from Flipkart based upon your product"
   ]
  },
  {
   "cell_type": "code",
   "execution_count": 2,
   "metadata": {},
   "outputs": [
    {
     "data": {
      "text/plain": [
       "'https://www.flipkart.com/search?q=mi%20brand%20phone&otracker=search&otracker1=search&marketplace=FLIPKART&as-show=on&as=off'"
      ]
     },
     "execution_count": 2,
     "metadata": {},
     "output_type": "execute_result"
    }
   ],
   "source": [
    "url = \"https://www.flipkart.com/search?q=mi%20brand%20phone&otracker=search&otracker1=search&marketplace=FLIPKART&as-show=on&as=off\"\n",
    "url"
   ]
  },
  {
   "cell_type": "code",
   "execution_count": 3,
   "metadata": {},
   "outputs": [],
   "source": [
    "# sends an HTTP GET request to the specified URL and assigns the response object to the variable req\n",
    "req = requests.get(url)"
   ]
  },
  {
   "cell_type": "code",
   "execution_count": 6,
   "metadata": {},
   "outputs": [
    {
     "data": {
      "text/plain": [
       "<div class=\"_2kHMtA\"><a class=\"_1fQZEK\" href=\"/mi-11-lite-vinyl-black-128-gb/p/itmac6203bae9394?pid=MOBG3VSKHGETEBVM&amp;lid=LSTMOBG3VSKHGETEBVM0TO8SZ&amp;marketplace=FLIPKART&amp;q=mi+brand+phone&amp;store=tyy%2F4io&amp;srno=s_1_1&amp;otracker=search&amp;otracker1=search&amp;fm=organic&amp;iid=bf3fb93f-d735-43d3-b741-cf21d6caa08a.MOBG3VSKHGETEBVM.SEARCH&amp;ppt=None&amp;ppn=None&amp;ssid=9za61uo1hs0000001711295490538&amp;qH=4aa7f10791b88761\" rel=\"noopener noreferrer\" target=\"_blank\"><div class=\"MIXNux\"><div class=\"_2QcLo-\"><div><div class=\"CXW8mj\" style=\"height:200px;width:200px\"><img alt=\"Mi 11 Lite (Vinyl Black, 128 GB)\" class=\"_396cs4\" loading=\"eager\" src=\"https://rukminim2.flixcart.com/image/312/312/kq6yefk0/mobile/b/2/f/11-lite-m2101k9ai-mi-original-imag496egxryygvz.jpeg?q=70\"/></div></div></div><div class=\"_3wLduG\"><div class=\"_3PzNI-\"><span class=\"f3A4_V\"><label class=\"_2iDkf8\"><input class=\"_30VH1S\" readonly=\"\" type=\"checkbox\"/><div class=\"_24_Dny\"></div></label></span><label class=\"_6Up2sF\"><span>Add to Compare</span></label></div></div><div class=\"_2hVSre _3nq8ih\"><div class=\"_36FSn5\"><svg class=\"_1l0elc\" height=\"16\" viewbox=\"0 0 20 16\" width=\"16\" xmlns=\"http://www.w3.org/2000/svg\"><path class=\"eX72wL\" d=\"M8.695 16.682C4.06 12.382 1 9.536 1 6.065 1 3.219 3.178 1 5.95 1c1.566 0 3.069.746 4.05 1.915C10.981 1.745 12.484 1 14.05 1 16.822 1 19 3.22 19 6.065c0 3.471-3.06 6.316-7.695 10.617L10 17.897l-1.305-1.215z\" fill=\"#2874F0\" fill-rule=\"evenodd\" opacity=\".9\" stroke=\"#FFF\"></path></svg></div></div></div><div class=\"_3pLy-c row\"><div class=\"col col-7-12\"><div class=\"_4rR01T\">Mi 11 Lite (Vinyl Black, 128 GB)</div><div class=\"gUuXy-\"><span class=\"_1lRcqv\" id=\"productRating_LSTMOBG3VSKHGETEBVM0TO8SZ_MOBG3VSKHGETEBVM_\"><div class=\"_3LWZlK\">4.2<img class=\"_1wB99o\" src=\"data:image/svg+xml;base64,PHN2ZyB4bWxucz0iaHR0cDovL3d3dy53My5vcmcvMjAwMC9zdmciIHdpZHRoPSIxMyIgaGVpZ2h0PSIxMiI+PHBhdGggZmlsbD0iI0ZGRiIgZD0iTTYuNSA5LjQzOWwtMy42NzQgMi4yMy45NC00LjI2LTMuMjEtMi44ODMgNC4yNTQtLjQwNEw2LjUuMTEybDEuNjkgNC4wMSA0LjI1NC40MDQtMy4yMSAyLjg4Mi45NCA0LjI2eiIvPjwvc3ZnPg==\"/></div></span><span class=\"_2_R_DZ\"><span><span>13,196 Ratings </span><span class=\"_13vcmD\">&amp;</span><span> 1,427 Reviews</span></span></span></div><div class=\"fMghEO\"><ul class=\"_1xgFaf\"><li class=\"rgWa7D\">6 GB RAM | 128 GB ROM | Expandable Upto 512 GB</li><li class=\"rgWa7D\">16.64 cm (6.55 inch) Full HD+ Display</li><li class=\"rgWa7D\">64MP + 8MP + 5MP | 16MP Front Camera</li><li class=\"rgWa7D\">4250 mAh Li-Polymer Battery</li><li class=\"rgWa7D\">Qualcomm Snapdragon 732G Processor</li><li class=\"rgWa7D\">1 Year Manufacturer Warranty for Handset and 6 Months Warranty for In the Box Accessories</li></ul></div></div><div class=\"col col-5-12 nlI3QM\"><div class=\"_3tbKJL\"><div class=\"_25b18c\"><div class=\"_30jeq3 _1_WHN1\">₹13,990</div><div class=\"_3I9_wc _27UcVY\">₹<!-- -->24,999</div><div class=\"_3Ay6Sb\"><span>44% off</span></div></div></div><div class=\"_13J9qT\"><img height=\"21\" src=\"//static-assets-web.flixcart.com/fk-p-linchpin-web/fk-cp-zion/img/fa_62673a.png\"/></div></div></div></a></div>"
      ]
     },
     "execution_count": 6,
     "metadata": {},
     "output_type": "execute_result"
    }
   ],
   "source": [
    "# finds all <div> elements with the class _2kHMtA within the parsed HTML content and assigns them to the variable dat\n",
    "data = content.find_all('div', {'class': '_2kHMtA'})\n",
    "data[0]"
   ]
  },
  {
   "cell_type": "code",
   "execution_count": 7,
   "metadata": {},
   "outputs": [],
   "source": [
    "# Initialize empty lists to store links and phone names\n",
    "links = []\n",
    "phone_name = []\n",
    "\n",
    "# Base URL for constructing complete links\n",
    "start_link = \"https://www.flipkart.com\"\n",
    "\n",
    "# Iterate through each item in the 'data' list\n",
    "for items in data:\n",
    "    #  Extract the relative link for each item\n",
    "    rest_link = items.find('a')['href']\n",
    "    \n",
    "    #     # Find the name of the phone\n",
    "    name = items.find('div', attrs = {'class': '_4rR01T'})\n",
    "    \n",
    "    # Append the text of the 'name' element to the 'phone_name' list\n",
    "    phone_name.append(name.text)\n",
    "    \n",
    "    # Construct the complete URL by combining the base URL and the relative link, then append it to the 'links' list\n",
    "    links.append(start_link + rest_link)"
   ]
  },
  {
   "cell_type": "code",
   "execution_count": 8,
   "metadata": {},
   "outputs": [
    {
     "name": "stdout",
     "output_type": "stream",
     "text": [
      "Mi 11 Lite (Vinyl Black, 128 GB)\n",
      "https://www.flipkart.com/mi-11-lite-vinyl-black-128-gb/p/itmac6203bae9394?pid=MOBG3VSKHGETEBVM&lid=LSTMOBG3VSKHGETEBVM0TO8SZ&marketplace=FLIPKART&q=mi+brand+phone&store=tyy%2F4io&srno=s_1_1&otracker=search&otracker1=search&fm=organic&iid=bf3fb93f-d735-43d3-b741-cf21d6caa08a.MOBG3VSKHGETEBVM.SEARCH&ppt=None&ppn=None&ssid=9za61uo1hs0000001711295490538&qH=4aa7f10791b88761\n"
     ]
    }
   ],
   "source": [
    "print(phone_name[0])  # Print the first phone name\n",
    "print(links[0]) # Print the corresponding link"
   ]
  },
  {
   "cell_type": "code",
   "execution_count": 9,
   "metadata": {},
   "outputs": [
    {
     "name": "stdout",
     "output_type": "stream",
     "text": [
      "                               Phone_names  \\\n",
      "0         Mi 11 Lite (Vinyl Black, 128 GB)   \n",
      "1           Mi 11 Lite (Jazz Blue, 128 GB)   \n",
      "2         Mi 11 Lite (Vinyl Black, 128 GB)   \n",
      "3      Xiaomi 11i 5G (Purple Mist, 128 GB)   \n",
      "4        Mi 10T Pro (Cosmic Black, 128 GB)   \n",
      "5    Xiaomi 11i 5G (Stealth Black, 128 GB)   \n",
      "6             Mi 11X (Lunar White, 128 GB)   \n",
      "7                  Redmi 6A (Black, 16 GB)   \n",
      "8       Xiaomi 11i 5G (Camo Green, 128 GB)   \n",
      "9               Redmi 9A (Sea Blue, 32 GB)   \n",
      "10         Redmi Note 4 (Dark Grey, 32 GB)   \n",
      "11                               Peace Mi2   \n",
      "12                               Peace Mi4   \n",
      "13             Redmi 6A (Rose Gold, 32 GB)   \n",
      "14              Redmi Note 4 (Gold, 32 GB)   \n",
      "15                  Redmi 6A (Gold, 16 GB)   \n",
      "16           Mi 10T (Cosmic Black, 128 GB)   \n",
      "17        Redmi 9A (Midnight Black, 32 GB)   \n",
      "18          Redmi 9A (Nature Green, 32 GB)   \n",
      "19          Xiaomi 14 (Jade Green, 512 GB)   \n",
      "20          Redmi 9A (Nature Green, 32 GB)   \n",
      "21                  Redmi 6A (Blue, 16 GB)   \n",
      "22          Mi 11 Lite (Jazz Blue, 128 GB)   \n",
      "23  Xiaomi 11Lite NE (Vinyl Black, 128 GB)   \n",
      "\n",
      "                                                Links  \n",
      "0   https://www.flipkart.com/mi-11-lite-vinyl-blac...  \n",
      "1   https://www.flipkart.com/mi-11-lite-jazz-blue-...  \n",
      "2   https://www.flipkart.com/mi-11-lite-vinyl-blac...  \n",
      "3   https://www.flipkart.com/xiaomi-11i-5g-purple-...  \n",
      "4   https://www.flipkart.com/mi-10t-pro-cosmic-bla...  \n",
      "5   https://www.flipkart.com/xiaomi-11i-5g-stealth...  \n",
      "6   https://www.flipkart.com/mi-11x-lunar-white-12...  \n",
      "7   https://www.flipkart.com/redmi-6a-black-16-gb/...  \n",
      "8   https://www.flipkart.com/xiaomi-11i-5g-camo-gr...  \n",
      "9   https://www.flipkart.com/redmi-9a-sea-blue-32-...  \n",
      "10  https://www.flipkart.com/redmi-note-4-dark-gre...  \n",
      "11  https://www.flipkart.com/peace-mi2/p/itm324f37...  \n",
      "12  https://www.flipkart.com/peace-mi4/p/itm169fc0...  \n",
      "13  https://www.flipkart.com/redmi-6a-rose-gold-32...  \n",
      "14  https://www.flipkart.com/redmi-note-4-gold-32-...  \n",
      "15  https://www.flipkart.com/redmi-6a-gold-16-gb/p...  \n",
      "16  https://www.flipkart.com/mi-10t-cosmic-black-1...  \n",
      "17  https://www.flipkart.com/redmi-9a-midnight-bla...  \n",
      "18  https://www.flipkart.com/redmi-9a-nature-green...  \n",
      "19  https://www.flipkart.com/xiaomi-14-jade-green-...  \n",
      "20  https://www.flipkart.com/redmi-9a-nature-green...  \n",
      "21  https://www.flipkart.com/redmi-6a-blue-16-gb/p...  \n",
      "22  https://www.flipkart.com/mi-11-lite-jazz-blue-...  \n",
      "23  https://www.flipkart.com/xiaomi-11lite-ne-viny...  \n"
     ]
    }
   ],
   "source": [
    "# Create a dictionary containing the phone names and links\n",
    "dataframe = {\"Phone_names\": phone_name, \n",
    "             \"Links\": links}\n",
    "\n",
    "# Create a DataFrame from the dictionary\n",
    "final_dataframe = pd.DataFrame(dataframe)\n",
    "\n",
    "# Print the DataFrame\n",
    "print(final_dataframe)"
   ]
  },
  {
   "cell_type": "code",
   "execution_count": 10,
   "metadata": {},
   "outputs": [],
   "source": [
    "# Save the DataFrame 'final_dataframe' to a CSV file named \"data.csv\"\n",
    "final_dataframe.to_csv(\"dataset\\data.csv\")"
   ]
  },
  {
   "cell_type": "markdown",
   "metadata": {},
   "source": [
    "### Get Product Image URL"
   ]
  },
  {
   "cell_type": "code",
   "execution_count": 11,
   "metadata": {},
   "outputs": [],
   "source": [
    "# Initialize empty lists to store links, phone names, and image URLs\n",
    "links = []\n",
    "phone_name = []\n",
    "image_urls = []\n",
    "\n",
    "# Base URL for constructing complete links\n",
    "start_link = \"https://www.flipkart.com\"\n",
    "\n",
    "# Iterate through each item in the 'data' list\n",
    "for items in data:\n",
    "    # Extract the relative link for each item\n",
    "    rest_link = items.find('a')['href']\n",
    "    \n",
    "    # Find the name of the phone\n",
    "    name = items.find('div', attrs = {'class': '_4rR01T'})\n",
    "    \n",
    "    # Append the extracted name to the 'phone_name' list\n",
    "    phone_name.append(name.text)\n",
    "    \n",
    "    # Append the complete URL to the 'links' list\n",
    "    links.append(start_link + rest_link)\n",
    "    \n",
    "    # Find the image tag for each item\n",
    "    image_tag = items.find('img', class_='_396cs4')\n",
    "    \n",
    "    # Check if image tag exists\n",
    "    if image_tag:\n",
    "        \n",
    "        # Extract the source URL of the image\n",
    "        image_url = image_tag['src']\n",
    "        \n",
    "        # Append the image URL to the 'image_urls' list\n",
    "        image_urls.append(image_url)\n",
    "    else:\n",
    "        # If image tag doesn't exist, append None to indicate no image\n",
    "        image_urls.append(None)"
   ]
  },
  {
   "cell_type": "code",
   "execution_count": 12,
   "metadata": {},
   "outputs": [
    {
     "name": "stdout",
     "output_type": "stream",
     "text": [
      "Mi 11 Lite (Vinyl Black, 128 GB)\n",
      "https://www.flipkart.com/mi-11-lite-vinyl-black-128-gb/p/itmac6203bae9394?pid=MOBG3VSKHGETEBVM&lid=LSTMOBG3VSKHGETEBVM0TO8SZ&marketplace=FLIPKART&q=mi+brand+phone&store=tyy%2F4io&srno=s_1_1&otracker=search&otracker1=search&fm=organic&iid=bf3fb93f-d735-43d3-b741-cf21d6caa08a.MOBG3VSKHGETEBVM.SEARCH&ppt=None&ppn=None&ssid=9za61uo1hs0000001711295490538&qH=4aa7f10791b88761\n",
      "https://rukminim2.flixcart.com/image/312/312/kq6yefk0/mobile/b/2/f/11-lite-m2101k9ai-mi-original-imag496egxryygvz.jpeg?q=70\n"
     ]
    }
   ],
   "source": [
    "print(phone_name[0]) # Print the first phone name\n",
    "print(links[0]) # Print the corresponding link\n",
    "print(image_urls[2]) # Print the image URL for the third item"
   ]
  },
  {
   "cell_type": "code",
   "execution_count": 13,
   "metadata": {},
   "outputs": [
    {
     "name": "stdout",
     "output_type": "stream",
     "text": [
      "                               Phone_names  \\\n",
      "0         Mi 11 Lite (Vinyl Black, 128 GB)   \n",
      "1           Mi 11 Lite (Jazz Blue, 128 GB)   \n",
      "2         Mi 11 Lite (Vinyl Black, 128 GB)   \n",
      "3      Xiaomi 11i 5G (Purple Mist, 128 GB)   \n",
      "4        Mi 10T Pro (Cosmic Black, 128 GB)   \n",
      "5    Xiaomi 11i 5G (Stealth Black, 128 GB)   \n",
      "6             Mi 11X (Lunar White, 128 GB)   \n",
      "7                  Redmi 6A (Black, 16 GB)   \n",
      "8       Xiaomi 11i 5G (Camo Green, 128 GB)   \n",
      "9               Redmi 9A (Sea Blue, 32 GB)   \n",
      "10         Redmi Note 4 (Dark Grey, 32 GB)   \n",
      "11                               Peace Mi2   \n",
      "12                               Peace Mi4   \n",
      "13             Redmi 6A (Rose Gold, 32 GB)   \n",
      "14              Redmi Note 4 (Gold, 32 GB)   \n",
      "15                  Redmi 6A (Gold, 16 GB)   \n",
      "16           Mi 10T (Cosmic Black, 128 GB)   \n",
      "17        Redmi 9A (Midnight Black, 32 GB)   \n",
      "18          Redmi 9A (Nature Green, 32 GB)   \n",
      "19          Xiaomi 14 (Jade Green, 512 GB)   \n",
      "20          Redmi 9A (Nature Green, 32 GB)   \n",
      "21                  Redmi 6A (Blue, 16 GB)   \n",
      "22          Mi 11 Lite (Jazz Blue, 128 GB)   \n",
      "23  Xiaomi 11Lite NE (Vinyl Black, 128 GB)   \n",
      "\n",
      "                                                Links  \\\n",
      "0   https://www.flipkart.com/mi-11-lite-vinyl-blac...   \n",
      "1   https://www.flipkart.com/mi-11-lite-jazz-blue-...   \n",
      "2   https://www.flipkart.com/mi-11-lite-vinyl-blac...   \n",
      "3   https://www.flipkart.com/xiaomi-11i-5g-purple-...   \n",
      "4   https://www.flipkart.com/mi-10t-pro-cosmic-bla...   \n",
      "5   https://www.flipkart.com/xiaomi-11i-5g-stealth...   \n",
      "6   https://www.flipkart.com/mi-11x-lunar-white-12...   \n",
      "7   https://www.flipkart.com/redmi-6a-black-16-gb/...   \n",
      "8   https://www.flipkart.com/xiaomi-11i-5g-camo-gr...   \n",
      "9   https://www.flipkart.com/redmi-9a-sea-blue-32-...   \n",
      "10  https://www.flipkart.com/redmi-note-4-dark-gre...   \n",
      "11  https://www.flipkart.com/peace-mi2/p/itm324f37...   \n",
      "12  https://www.flipkart.com/peace-mi4/p/itm169fc0...   \n",
      "13  https://www.flipkart.com/redmi-6a-rose-gold-32...   \n",
      "14  https://www.flipkart.com/redmi-note-4-gold-32-...   \n",
      "15  https://www.flipkart.com/redmi-6a-gold-16-gb/p...   \n",
      "16  https://www.flipkart.com/mi-10t-cosmic-black-1...   \n",
      "17  https://www.flipkart.com/redmi-9a-midnight-bla...   \n",
      "18  https://www.flipkart.com/redmi-9a-nature-green...   \n",
      "19  https://www.flipkart.com/xiaomi-14-jade-green-...   \n",
      "20  https://www.flipkart.com/redmi-9a-nature-green...   \n",
      "21  https://www.flipkart.com/redmi-6a-blue-16-gb/p...   \n",
      "22  https://www.flipkart.com/mi-11-lite-jazz-blue-...   \n",
      "23  https://www.flipkart.com/xiaomi-11lite-ne-viny...   \n",
      "\n",
      "                                              Imaages  \n",
      "0   https://rukminim2.flixcart.com/image/312/312/k...  \n",
      "1   https://rukminim2.flixcart.com/image/312/312/k...  \n",
      "2   https://rukminim2.flixcart.com/image/312/312/k...  \n",
      "3   https://rukminim2.flixcart.com/image/312/312/k...  \n",
      "4   https://rukminim2.flixcart.com/image/312/312/k...  \n",
      "5   https://rukminim2.flixcart.com/image/312/312/k...  \n",
      "6   https://rukminim2.flixcart.com/image/312/312/k...  \n",
      "7   https://rukminim2.flixcart.com/image/312/312/j...  \n",
      "8   https://rukminim2.flixcart.com/image/312/312/k...  \n",
      "9   https://rukminim2.flixcart.com/image/312/312/k...  \n",
      "10  https://rukminim2.flixcart.com/image/312/312/m...  \n",
      "11  https://rukminim2.flixcart.com/image/312/312/x...  \n",
      "12  https://rukminim2.flixcart.com/image/312/312/x...  \n",
      "13  https://rukminim2.flixcart.com/image/312/312/k...  \n",
      "14  https://rukminim2.flixcart.com/image/312/312/k...  \n",
      "15  https://rukminim2.flixcart.com/image/312/312/j...  \n",
      "16  https://rukminim2.flixcart.com/image/312/312/k...  \n",
      "17  https://rukminim2.flixcart.com/image/312/312/k...  \n",
      "18  https://rukminim2.flixcart.com/image/312/312/k...  \n",
      "19  https://rukminim2.flixcart.com/image/312/312/x...  \n",
      "20  https://rukminim2.flixcart.com/image/312/312/k...  \n",
      "21  https://rukminim2.flixcart.com/image/312/312/j...  \n",
      "22  https://rukminim2.flixcart.com/image/312/312/k...  \n",
      "23  https://rukminim2.flixcart.com/image/312/312/x...  \n"
     ]
    }
   ],
   "source": [
    "# Create a dictionary containing the phone names and links\n",
    "dataframe = {\"Phone_names\": phone_name, \n",
    "             \"Links\": links, \n",
    "             \"Imaages\": image_urls}\n",
    "\n",
    "# Create a DataFrame from the dictionary\n",
    "final_dataframe = pd.DataFrame(dataframe)\n",
    "\n",
    "# Print the DataFrame\n",
    "print(final_dataframe)"
   ]
  },
  {
   "cell_type": "code",
   "execution_count": 14,
   "metadata": {},
   "outputs": [],
   "source": [
    "# Save the DataFrame 'final_dataframe' to a CSV file named \"data_image.csv\"\n",
    "final_dataframe.to_csv(\"dataset\\data_image.csv\")"
   ]
  },
  {
   "cell_type": "markdown",
   "metadata": {},
   "source": [
    "### Get Product Discount Price"
   ]
  },
  {
   "cell_type": "code",
   "execution_count": 15,
   "metadata": {},
   "outputs": [],
   "source": [
    "# Initialize empty lists to store links, phone names, image URLs, selling prices\n",
    "links = []\n",
    "phone_name = []\n",
    "image_urls = []\n",
    "prices = []\n",
    "\n",
    "# Base URL for constructing complete links\n",
    "start_link = \"https://www.flipkart.com\"\n",
    "\n",
    "# Iterate through each item in the 'data' list\n",
    "for items in data:\n",
    "    # Extract the relative link for each item\n",
    "    rest_link = items.find('a')['href']\n",
    "    \n",
    "    # Find the name of the phone\n",
    "    name = items.find('div', attrs = {'class': '_4rR01T'})\n",
    "    \n",
    "    # Append the extracted name to the 'phone_name' list\n",
    "    phone_name.append(name.text)\n",
    "    \n",
    "    # Combine the base URL and the relative link to form the complete URL\n",
    "    links.append(start_link + rest_link)\n",
    "    \n",
    "    # Find the image tag for each item\n",
    "    image_tag = items.find('img', class_='_396cs4')\n",
    "    \n",
    "    # Check if image tag exists\n",
    "    if image_tag:\n",
    "        # Extract the source URL of the image\n",
    "        image_url = image_tag['src']\n",
    "        \n",
    "        # Append the image URL to the 'image_urls' list\n",
    "        image_urls.append(image_url)\n",
    "    else:\n",
    "        # If image tag doesn't exist, append None to indicate no image\n",
    "        image_urls.append(None)\n",
    "        \n",
    "    # Extracting price\n",
    "    price_tag = items.find('div', class_='_30jeq3 _1_WHN1')\n",
    "    if price_tag:\n",
    "        # Extract the price text and strip any leading/trailing whitespaces\n",
    "        price = price_tag.text.strip()\n",
    "        \n",
    "        # Append the price to the 'prices' list\n",
    "        prices.append(price)\n",
    "    else:\n",
    "        # If price tag doesn't exist, append None or any placeholder value\n",
    "        prices.append(None)"
   ]
  },
  {
   "cell_type": "code",
   "execution_count": 16,
   "metadata": {},
   "outputs": [
    {
     "name": "stdout",
     "output_type": "stream",
     "text": [
      "Mi 11 Lite (Vinyl Black, 128 GB)\n",
      "https://www.flipkart.com/mi-11-lite-vinyl-black-128-gb/p/itmac6203bae9394?pid=MOBG3VSKHGETEBVM&lid=LSTMOBG3VSKHGETEBVM0TO8SZ&marketplace=FLIPKART&q=mi+brand+phone&store=tyy%2F4io&srno=s_1_1&otracker=search&otracker1=search&fm=organic&iid=bf3fb93f-d735-43d3-b741-cf21d6caa08a.MOBG3VSKHGETEBVM.SEARCH&ppt=None&ppn=None&ssid=9za61uo1hs0000001711295490538&qH=4aa7f10791b88761\n",
      "https://rukminim2.flixcart.com/image/312/312/kq6yefk0/mobile/b/2/f/11-lite-m2101k9ai-mi-original-imag496egxryygvz.jpeg?q=70\n",
      "₹13,990\n"
     ]
    }
   ],
   "source": [
    "print(phone_name[0])     # Print the phone name of the first item\n",
    "print(links[0])          # Print the corresponding link of the first item\n",
    "print(image_urls[0])     # Print the image URL of the first item\n",
    "print(prices[0])         # Print the price of the first item"
   ]
  },
  {
   "cell_type": "code",
   "execution_count": 17,
   "metadata": {},
   "outputs": [
    {
     "name": "stdout",
     "output_type": "stream",
     "text": [
      "https://rukminim2.flixcart.com/image/312/312/kq6yefk0/mobile/b/2/f/11-lite-m2101k9ai-mi-original-imag496egxryygvz.jpeg?q=70\n"
     ]
    }
   ],
   "source": [
    "print(image_urls[2])  # Print the image URL of the third item"
   ]
  },
  {
   "cell_type": "code",
   "execution_count": 18,
   "metadata": {},
   "outputs": [],
   "source": [
    "# Create a dictionary containing phone names, links, image URLs, and prices\n",
    "dataframe = {\"Phone_names\": phone_name, \n",
    "             \"Links\": links, \n",
    "             \"Images\": image_urls, \n",
    "             \"Prices\": prices}\n",
    "\n",
    "# Create a DataFrame from the dictionary\n",
    "final_dataframe = pd.DataFrame(dataframe)"
   ]
  },
  {
   "cell_type": "code",
   "execution_count": 19,
   "metadata": {},
   "outputs": [],
   "source": [
    "final_dataframe.to_csv(\"dataset\\data_price.csv\")"
   ]
  },
  {
   "cell_type": "markdown",
   "metadata": {},
   "source": [
    "### Get Product Original Price"
   ]
  },
  {
   "cell_type": "code",
   "execution_count": 20,
   "metadata": {},
   "outputs": [],
   "source": [
    "# Initialize empty lists to store links, phone names, image URLs, selling prices, and original prices\n",
    "links = []\n",
    "phone_name = []\n",
    "image_urls = []\n",
    "selling_prices = []\n",
    "original_price = []\n",
    "\n",
    "# Base URL for constructing complete links\n",
    "start_link = \"https://www.flipkart.com\"\n",
    "\n",
    "# Iterate through each item in the 'data' list\n",
    "for items in data:\n",
    "    # Extract the relative link for each item\n",
    "    rest_link = items.find('a')['href']\n",
    "    \n",
    "    # Find the name of the phone\n",
    "    name = items.find('div', attrs = {'class': '_4rR01T'})\n",
    "    \n",
    "    # Append the extracted name to the 'phone_name' list\n",
    "    phone_name.append(name.text)\n",
    "    \n",
    "    # Combine the base URL and the relative link to form the complete URL\n",
    "    links.append(start_link + rest_link)\n",
    "    \n",
    "    # Find the image tag for each item\n",
    "    image_tag = items.find('img', class_='_396cs4')\n",
    "    \n",
    "    # Check if image tag exists\n",
    "    if image_tag:\n",
    "        \n",
    "        # Extract the source URL of the image\n",
    "        image_url = image_tag['src']\n",
    "        \n",
    "        # Append the image URL to the 'image_urls' list\n",
    "        image_urls.append(image_url)\n",
    "    else:\n",
    "        # If image tag doesn't exist, append None to indicate no image\n",
    "        image_urls.append(None)\n",
    "        \n",
    "    # Extracting selling price\n",
    "    price_tag = items.find('div', class_='_30jeq3 _1_WHN1')\n",
    "    if price_tag:\n",
    "        price = price_tag.text.strip()\n",
    "        selling_prices.append(price)\n",
    "    else:\n",
    "        selling_prices.append(None)\n",
    "        \n",
    "    # Extracting original price\n",
    "    price_tag = items.find('div', class_='_3I9_wc _27UcVY')\n",
    "    if price_tag:\n",
    "        price = price_tag.text.strip()\n",
    "        original_price.append(price)\n",
    "    else:\n",
    "        original_price.append(None)  # or any placeholder value if price is not found"
   ]
  },
  {
   "cell_type": "code",
   "execution_count": 21,
   "metadata": {},
   "outputs": [
    {
     "name": "stdout",
     "output_type": "stream",
     "text": [
      "Mi 11 Lite (Vinyl Black, 128 GB)\n",
      "https://www.flipkart.com/mi-11-lite-vinyl-black-128-gb/p/itmac6203bae9394?pid=MOBG3VSKHGETEBVM&lid=LSTMOBG3VSKHGETEBVM0TO8SZ&marketplace=FLIPKART&q=mi+brand+phone&store=tyy%2F4io&srno=s_1_1&otracker=search&otracker1=search&fm=organic&iid=bf3fb93f-d735-43d3-b741-cf21d6caa08a.MOBG3VSKHGETEBVM.SEARCH&ppt=None&ppn=None&ssid=9za61uo1hs0000001711295490538&qH=4aa7f10791b88761\n",
      "https://rukminim2.flixcart.com/image/312/312/kq6yefk0/mobile/b/2/f/11-lite-m2101k9ai-mi-original-imag496egxryygvz.jpeg?q=70\n",
      "₹13,990\n",
      "₹24,999\n"
     ]
    }
   ],
   "source": [
    "print(phone_name[0]) # Print the first phone name\n",
    "print(links[0]) # Print the corresponding link\n",
    "print(image_urls[0]) # Print the image URL for the first item\n",
    "print(selling_prices[0]) # Print the selling price for the first item\n",
    "print(original_price[0]) # Print the original price for the first item"
   ]
  },
  {
   "cell_type": "code",
   "execution_count": 22,
   "metadata": {},
   "outputs": [],
   "source": [
    "# Create a dictionary containing phone names, links, images, selling prices, and original prices\n",
    "dataframe = {\"Phone_names\": phone_name, \n",
    "             \"Links\": links, \n",
    "             \"Images\": image_urls, \n",
    "             \"Selling Prices\": selling_prices, \n",
    "             \"Original Prie\": original_price}\n",
    "\n",
    "# Create a DataFrame from the dictionary\n",
    "final_dataframe = pd.DataFrame(dataframe)"
   ]
  },
  {
   "cell_type": "code",
   "execution_count": 23,
   "metadata": {},
   "outputs": [],
   "source": [
    "# Save the DataFrame 'final_dataframe' to a CSV file named \"data_price_sales.csv\"\n",
    "final_dataframe.to_csv(\"dataset\\data_sales_original_price.csv\")"
   ]
  },
  {
   "cell_type": "markdown",
   "metadata": {},
   "source": [
    "### Get Product Review"
   ]
  },
  {
   "cell_type": "code",
   "execution_count": 24,
   "metadata": {},
   "outputs": [],
   "source": [
    "# Initialize empty lists to store links, phone names, image URLs, selling prices, original prices, and reviews\n",
    "links = []\n",
    "phone_name = []\n",
    "image_urls = []\n",
    "selling_prices = []\n",
    "original_price = []\n",
    "reviews = []\n",
    "\n",
    "# Base URL for constructing complete links\n",
    "start_link = \"https://www.flipkart.com\"\n",
    "\n",
    "# Iterate through each item in the 'data' list\n",
    "for items in data:\n",
    "    # Extract the relative link for each item\n",
    "    rest_link = items.find('a')['href']\n",
    "    \n",
    "    # Find the name of the phone\n",
    "    name = items.find('div', attrs = {'class': '_4rR01T'})\n",
    "    \n",
    "    # Append the extracted name to the 'phone_name' list\n",
    "    phone_name.append(name.text)\n",
    "    \n",
    "    # Combine the base URL and the relative link to form the complete URL\n",
    "    links.append(start_link + rest_link)\n",
    "    \n",
    "    # Find the image tag for each item\n",
    "    image_tag = items.find('img', class_='_396cs4')\n",
    "    \n",
    "    # Check if image tag exists\n",
    "    if image_tag:\n",
    "        # Extract the source URL of the image\n",
    "        image_url = image_tag['src']\n",
    "        # Append the image URL to the 'image_urls' list\n",
    "        image_urls.append(image_url)\n",
    "    else:\n",
    "        # If image tag doesn't exist, append None to indicate no image\n",
    "        image_urls.append(None)\n",
    "        \n",
    "    # Extracting selling price\n",
    "    price_tag = items.find('div', class_='_30jeq3 _1_WHN1')\n",
    "    if price_tag:\n",
    "        price = price_tag.text.strip()\n",
    "        selling_prices.append(price)\n",
    "    else:\n",
    "        selling_prices.append(None)\n",
    "        \n",
    "    # Extracting original price\n",
    "    price_tag = items.find('div', class_='_3I9_wc _27UcVY')\n",
    "    if price_tag:\n",
    "        price = price_tag.text.strip()\n",
    "        original_price.append(price)\n",
    "    else:\n",
    "        original_price.append(None)\n",
    "        \n",
    "    # Extracting reviews\n",
    "    review_tag = items.find('span', class_='_1lRcqv')\n",
    "    if review_tag:\n",
    "        review = review_tag.text.strip()\n",
    "        reviews.append(review)\n",
    "    else:\n",
    "        reviews.append(None)"
   ]
  },
  {
   "cell_type": "code",
   "execution_count": 25,
   "metadata": {},
   "outputs": [
    {
     "name": "stdout",
     "output_type": "stream",
     "text": [
      "Xiaomi 11i 5G (Stealth Black, 128 GB)\n",
      "https://www.flipkart.com/xiaomi-11i-5g-stealth-black-128-gb/p/itmf5300d828d19f?pid=MOBG9QXPQ2F8KGQD&lid=LSTMOBG9QXPQ2F8KGQDBEHA2F&marketplace=FLIPKART&q=mi+brand+phone&store=tyy%2F4io&srno=s_1_6&otracker=search&otracker1=search&fm=organic&iid=bf3fb93f-d735-43d3-b741-cf21d6caa08a.MOBG9QXPQ2F8KGQD.SEARCH&ppt=None&ppn=None&ssid=9za61uo1hs0000001711295490538&qH=4aa7f10791b88761\n",
      "https://rukminim2.flixcart.com/image/312/312/ky7lci80/mobile/4/n/d/-original-imagag2gdzpdfsdf.jpeg?q=70\n",
      "₹22,999\n",
      "₹31,999\n",
      "4.2\n"
     ]
    }
   ],
   "source": [
    "print(phone_name[5])         # Print the phone name for the sixth item\n",
    "print(links[5])              # Print the corresponding link for the sixth item\n",
    "print(image_urls[5])         # Print the image URL for the sixth item\n",
    "print(selling_prices[5])     # Print the selling price for the sixth item\n",
    "print(original_price[5])     # Print the original price for the sixth item\n",
    "print(reviews[5])            # Print the reviews for the sixth item"
   ]
  },
  {
   "cell_type": "code",
   "execution_count": 26,
   "metadata": {},
   "outputs": [],
   "source": [
    "# Create a dictionary containing phone names, links, images, selling prices, original prices, and reviews\n",
    "dataframe = {\"Phone_names\": phone_name, \n",
    "             \"Links\": links, \n",
    "             \"Images\": image_urls, \n",
    "             \"Selling Prices\": selling_prices, \n",
    "             \"Original Prie\": original_price,\n",
    "             \"Reviews\": reviews}\n",
    "\n",
    "# Create a DataFrame from the dictionary\n",
    "final_dataframe = pd.DataFrame(dataframe)"
   ]
  },
  {
   "cell_type": "code",
   "execution_count": 28,
   "metadata": {},
   "outputs": [],
   "source": [
    "# Save the DataFrame 'final_dataframe' to a CSV file named \"reviews.csv\"\n",
    "final_dataframe.to_csv(\"reviews.csv\")"
   ]
  },
  {
   "cell_type": "code",
   "execution_count": 29,
   "metadata": {},
   "outputs": [
    {
     "data": {
      "text/html": [
       "<div>\n",
       "<style scoped>\n",
       "    .dataframe tbody tr th:only-of-type {\n",
       "        vertical-align: middle;\n",
       "    }\n",
       "\n",
       "    .dataframe tbody tr th {\n",
       "        vertical-align: top;\n",
       "    }\n",
       "\n",
       "    .dataframe thead th {\n",
       "        text-align: right;\n",
       "    }\n",
       "</style>\n",
       "<table border=\"1\" class=\"dataframe\">\n",
       "  <thead>\n",
       "    <tr style=\"text-align: right;\">\n",
       "      <th></th>\n",
       "      <th>Unnamed: 0</th>\n",
       "      <th>Phone_names</th>\n",
       "      <th>Links</th>\n",
       "      <th>Images</th>\n",
       "      <th>Selling Prices</th>\n",
       "      <th>Original Prie</th>\n",
       "      <th>Reviews</th>\n",
       "    </tr>\n",
       "  </thead>\n",
       "  <tbody>\n",
       "    <tr>\n",
       "      <th>0</th>\n",
       "      <td>0</td>\n",
       "      <td>Mi 11 Lite (Vinyl Black, 128 GB)</td>\n",
       "      <td>https://www.flipkart.com/mi-11-lite-vinyl-blac...</td>\n",
       "      <td>https://rukminim2.flixcart.com/image/312/312/k...</td>\n",
       "      <td>₹13,990</td>\n",
       "      <td>₹24,999</td>\n",
       "      <td>4.2</td>\n",
       "    </tr>\n",
       "    <tr>\n",
       "      <th>1</th>\n",
       "      <td>1</td>\n",
       "      <td>Mi 11 Lite (Jazz Blue, 128 GB)</td>\n",
       "      <td>https://www.flipkart.com/mi-11-lite-jazz-blue-...</td>\n",
       "      <td>https://rukminim2.flixcart.com/image/312/312/k...</td>\n",
       "      <td>₹13,949</td>\n",
       "      <td>₹24,999</td>\n",
       "      <td>4.2</td>\n",
       "    </tr>\n",
       "    <tr>\n",
       "      <th>2</th>\n",
       "      <td>2</td>\n",
       "      <td>Mi 11 Lite (Vinyl Black, 128 GB)</td>\n",
       "      <td>https://www.flipkart.com/mi-11-lite-vinyl-blac...</td>\n",
       "      <td>https://rukminim2.flixcart.com/image/312/312/k...</td>\n",
       "      <td>₹23,999</td>\n",
       "      <td>₹25,999</td>\n",
       "      <td>4.2</td>\n",
       "    </tr>\n",
       "    <tr>\n",
       "      <th>3</th>\n",
       "      <td>3</td>\n",
       "      <td>Xiaomi 11i 5G (Purple Mist, 128 GB)</td>\n",
       "      <td>https://www.flipkart.com/xiaomi-11i-5g-purple-...</td>\n",
       "      <td>https://rukminim2.flixcart.com/image/312/312/k...</td>\n",
       "      <td>₹22,999</td>\n",
       "      <td>₹31,999</td>\n",
       "      <td>4.2</td>\n",
       "    </tr>\n",
       "    <tr>\n",
       "      <th>4</th>\n",
       "      <td>4</td>\n",
       "      <td>Mi 10T Pro (Cosmic Black, 128 GB)</td>\n",
       "      <td>https://www.flipkart.com/mi-10t-pro-cosmic-bla...</td>\n",
       "      <td>https://rukminim2.flixcart.com/image/312/312/k...</td>\n",
       "      <td>₹22,999</td>\n",
       "      <td>₹47,999</td>\n",
       "      <td>4.2</td>\n",
       "    </tr>\n",
       "  </tbody>\n",
       "</table>\n",
       "</div>"
      ],
      "text/plain": [
       "   Unnamed: 0                          Phone_names  \\\n",
       "0           0     Mi 11 Lite (Vinyl Black, 128 GB)   \n",
       "1           1       Mi 11 Lite (Jazz Blue, 128 GB)   \n",
       "2           2     Mi 11 Lite (Vinyl Black, 128 GB)   \n",
       "3           3  Xiaomi 11i 5G (Purple Mist, 128 GB)   \n",
       "4           4    Mi 10T Pro (Cosmic Black, 128 GB)   \n",
       "\n",
       "                                               Links  \\\n",
       "0  https://www.flipkart.com/mi-11-lite-vinyl-blac...   \n",
       "1  https://www.flipkart.com/mi-11-lite-jazz-blue-...   \n",
       "2  https://www.flipkart.com/mi-11-lite-vinyl-blac...   \n",
       "3  https://www.flipkart.com/xiaomi-11i-5g-purple-...   \n",
       "4  https://www.flipkart.com/mi-10t-pro-cosmic-bla...   \n",
       "\n",
       "                                              Images Selling Prices  \\\n",
       "0  https://rukminim2.flixcart.com/image/312/312/k...        ₹13,990   \n",
       "1  https://rukminim2.flixcart.com/image/312/312/k...        ₹13,949   \n",
       "2  https://rukminim2.flixcart.com/image/312/312/k...        ₹23,999   \n",
       "3  https://rukminim2.flixcart.com/image/312/312/k...        ₹22,999   \n",
       "4  https://rukminim2.flixcart.com/image/312/312/k...        ₹22,999   \n",
       "\n",
       "  Original Prie  Reviews  \n",
       "0       ₹24,999      4.2  \n",
       "1       ₹24,999      4.2  \n",
       "2       ₹25,999      4.2  \n",
       "3       ₹31,999      4.2  \n",
       "4       ₹47,999      4.2  "
      ]
     },
     "execution_count": 29,
     "metadata": {},
     "output_type": "execute_result"
    }
   ],
   "source": [
    "# Read the CSV file into a DataFrame\n",
    "df = pd.read_csv(\"reviews.csv\")\n",
    "\n",
    "# Display the first few rows of the DataFrame\n",
    "df.head()"
   ]
  },
  {
   "cell_type": "code",
   "execution_count": 41,
   "metadata": {},
   "outputs": [],
   "source": [
    "# Save the DataFrame 'final_dataframe' to a CSV file named \"final_data.csv\"\n",
    "final_dataframe.to_csv(\"final_data.csv\")"
   ]
  },
  {
   "cell_type": "markdown",
   "metadata": {},
   "source": [
    "# Multiple Pages Webscraping"
   ]
  },
  {
   "cell_type": "code",
   "execution_count": 30,
   "metadata": {},
   "outputs": [],
   "source": [
    "import requests  # Importing the requests library for making HTTP requests\n",
    "import pandas as pd  # Importing the pandas library for data manipulation\n",
    "from bs4 import BeautifulSoup  # Importing BeautifulSoup for web scraping"
   ]
  },
  {
   "cell_type": "code",
   "execution_count": 31,
   "metadata": {},
   "outputs": [
    {
     "name": "stdout",
     "output_type": "stream",
     "text": [
      "Enter number of pages: 4\n"
     ]
    }
   ],
   "source": [
    "page_number = input(\"Enter number of pages: \") # Prompt the user to input the number of pages\n",
    "\n",
    "# Iterate through the range from 1 to the input number of pages\n",
    "for i in range(1, int(page_number) + 1):\n",
    "    \n",
    "    # Construct the URL based on the current page number\n",
    "    url = \"https://www.flipkart.com/search?q=apple+mobiles&sid=tyy%2C4io&as=on&as-show=on&otracker=AS_QueryStore_OrganicAutoSuggest_1_7_na_na_na&otracker1=AS_QueryStore_OrganicAutoSuggest_1_7_na_na_na&as-pos=1&as-type=RECENT&suggestionId=apple+mobiles%7CMobiles&requestId=74513d15-9fcc-41ea-a7e0-16499e689ee3&as-backfill=on&otracker=nmenu_sub_Electronics_0_Apple&page=\"+str(i)\n",
    "    \n",
    "    # Send a GET request to the URL\n",
    "    req = requests.get(url)\n",
    "    \n",
    "    # Parse the HTML content of the response\n",
    "    content = BeautifulSoup(req.content, 'html.parser')\n",
    "    #print(content)"
   ]
  },
  {
   "cell_type": "code",
   "execution_count": 32,
   "metadata": {},
   "outputs": [
    {
     "data": {
      "text/plain": [
       "<div class=\"_2kHMtA\"><a class=\"_1fQZEK\" href=\"/apple-iphone-15-plus-pink-512-gb/p/itme9cc36fe09419?pid=MOBGTAGP7JCP6YBB&amp;lid=LSTMOBGTAGP7JCP6YBB3TZGS0&amp;marketplace=FLIPKART&amp;q=apple+mobiles&amp;store=tyy%2F4io&amp;srno=s_4_73&amp;otracker=AS_QueryStore_OrganicAutoSuggest_1_7_na_na_na&amp;otracker1=AS_QueryStore_OrganicAutoSuggest_1_7_na_na_na&amp;fm=organic&amp;iid=06d587e5-ee48-4b2c-b39d-571570e8b5c8.MOBGTAGP7JCP6YBB.SEARCH&amp;ppt=None&amp;ppn=None&amp;ssid=42eqnylvq80000001711295584132&amp;qH=cb603b9543d774e1\" rel=\"noopener noreferrer\" target=\"_blank\"><div class=\"MIXNux\"><div class=\"_2QcLo-\"><div><div class=\"CXW8mj\" style=\"height:200px;width:200px\"><img alt=\"Apple iPhone 15 Plus (Pink, 512 GB)\" class=\"_396cs4\" loading=\"eager\" src=\"https://rukminim2.flixcart.com/image/312/312/xif0q/mobile/c/6/r/-original-imagtc6fn8fecysv.jpeg?q=70\"/></div></div></div><div class=\"_3wLduG\"><div class=\"_3PzNI-\"><span class=\"f3A4_V\"><label class=\"_2iDkf8\"><input class=\"_30VH1S\" readonly=\"\" type=\"checkbox\"/><div class=\"_24_Dny\"></div></label></span><label class=\"_6Up2sF\"><span>Add to Compare</span></label></div></div><div class=\"_2hVSre _3nq8ih\"><div class=\"_36FSn5\"><svg class=\"_1l0elc\" height=\"16\" viewbox=\"0 0 20 16\" width=\"16\" xmlns=\"http://www.w3.org/2000/svg\"><path class=\"eX72wL\" d=\"M8.695 16.682C4.06 12.382 1 9.536 1 6.065 1 3.219 3.178 1 5.95 1c1.566 0 3.069.746 4.05 1.915C10.981 1.745 12.484 1 14.05 1 16.822 1 19 3.22 19 6.065c0 3.471-3.06 6.316-7.695 10.617L10 17.897l-1.305-1.215z\" fill=\"#2874F0\" fill-rule=\"evenodd\" opacity=\".9\" stroke=\"#FFF\"></path></svg></div></div></div><div class=\"_3pLy-c row\"><div class=\"col col-7-12\"><div class=\"_4rR01T\">Apple iPhone 15 Plus (Pink, 512 GB)</div><div class=\"gUuXy-\"><span class=\"_1lRcqv\" id=\"productRating_LSTMOBGTAGP7JCP6YBB3TZGS0_MOBGTAGP7JCP6YBB_\"><div class=\"_3LWZlK\">4.6<img class=\"_1wB99o\" src=\"data:image/svg+xml;base64,PHN2ZyB4bWxucz0iaHR0cDovL3d3dy53My5vcmcvMjAwMC9zdmciIHdpZHRoPSIxMyIgaGVpZ2h0PSIxMiI+PHBhdGggZmlsbD0iI0ZGRiIgZD0iTTYuNSA5LjQzOWwtMy42NzQgMi4yMy45NC00LjI2LTMuMjEtMi44ODMgNC4yNTQtLjQwNEw2LjUuMTEybDEuNjkgNC4wMSA0LjI1NC40MDQtMy4yMSAyLjg4Mi45NCA0LjI2eiIvPjwvc3ZnPg==\"/></div></span><span class=\"_2_R_DZ\"><span><span>3,907 Ratings </span><span class=\"_13vcmD\">&amp;</span><span> 407 Reviews</span></span></span></div><div class=\"fMghEO\"><ul class=\"_1xgFaf\"><li class=\"rgWa7D\">512 GB ROM</li><li class=\"rgWa7D\">17.02 cm (6.7 inch) Super Retina XDR Display</li><li class=\"rgWa7D\">48MP + 12MP | 12MP Front Camera</li><li class=\"rgWa7D\">A16 Bionic Chip, 6 Core Processor Processor</li><li class=\"rgWa7D\">1 Year Warranty for Phone and 6 Months Warranty for In-Box Accessories</li></ul></div></div><div class=\"col col-5-12 nlI3QM\"><div class=\"_3tbKJL\"><div class=\"_25b18c\"><div class=\"_30jeq3 _1_WHN1\">₹1,12,999</div><div class=\"_3I9_wc _27UcVY\">₹<!-- -->1,19,900</div><div class=\"_3Ay6Sb\"><span>5% off</span></div></div></div><div class=\"_13J9qT\"><img height=\"21\" src=\"//static-assets-web.flixcart.com/fk-p-linchpin-web/fk-cp-zion/img/fa_62673a.png\"/></div></div></div></a></div>"
      ]
     },
     "execution_count": 32,
     "metadata": {},
     "output_type": "execute_result"
    }
   ],
   "source": [
    "data = content.find_all('div', {'class': '_2kHMtA'}) # Extract all div elements with class '_2kHMtA'\n",
    "data[0] # Access the first element in the 'data' list"
   ]
  },
  {
   "cell_type": "code",
   "execution_count": 33,
   "metadata": {},
   "outputs": [
    {
     "name": "stdout",
     "output_type": "stream",
     "text": [
      "Enter number of pages: 4\n",
      "Phone in page 1\n",
      "24\n",
      "Phone in page 2\n",
      "24\n",
      "Phone in page 3\n",
      "24\n",
      "Phone in page 4\n",
      "24\n"
     ]
    }
   ],
   "source": [
    "page_number = input(\"Enter number of pages: \") # Prompt the user to input the number of pages\n",
    "\n",
    "# Iterate through the range from 1 to the input number of pages\n",
    "for i in range(1, int(page_number) + 1):\n",
    "    \n",
    "    # Construct the URL based on the current page number\n",
    "    url = \"https://www.flipkart.com/search?q=apple+mobiles&sid=tyy%2C4io&as=on&as-show=on&otracker=AS_QueryStore_OrganicAutoSuggest_1_7_na_na_na&otracker1=AS_QueryStore_OrganicAutoSuggest_1_7_na_na_na&as-pos=1&as-type=RECENT&suggestionId=apple+mobiles%7CMobiles&requestId=74513d15-9fcc-41ea-a7e0-16499e689ee3&as-backfill=on&otracker=nmenu_sub_Electronics_0_Apple&page=\"+str(i)\n",
    "    \n",
    "    # Send a GET request to the URL\n",
    "    req = requests.get(url)\n",
    "    \n",
    "    # Parse the HTML content of the response\n",
    "    content = BeautifulSoup(req.content, 'html.parser')\n",
    "    \n",
    "    # Find all elements with class '_4rR01T' (phone names)\n",
    "    name = content.find_all('div', {'class': '_4rR01T'})\n",
    "    \n",
    "    # Find all elements with class '_30jeq3 _1_WHN1' (selling prices)\n",
    "    price = content.find_all('div', {'class': '_30jeq3 _1_WHN1'})\n",
    "    \n",
    "    # Print the number of phones in the current page\n",
    "    print(\"Phone in page \"+str(i))\n",
    "    print(len(name))"
   ]
  },
  {
   "cell_type": "code",
   "execution_count": 34,
   "metadata": {},
   "outputs": [
    {
     "name": "stdout",
     "output_type": "stream",
     "text": [
      "Enter number of pages: 4\n",
      "Phone in page 1\n",
      "24\n",
      "Phone in page 2\n",
      "24\n",
      "Phone in page 3\n",
      "24\n",
      "Phone in page 4\n",
      "24\n"
     ]
    }
   ],
   "source": [
    "page_number = input(\"Enter number of pages: \")# Prompt the user to input the number of pages\n",
    "\n",
    "# Iterate through the range from 1 to the input number of pages\n",
    "for i in range(1, int(page_number) + 1):\n",
    "    \n",
    "    # Construct the URL based on the current page number\n",
    "    url = \"https://www.flipkart.com/search?q=apple+mobiles&sid=tyy%2C4io&as=on&as-show=on&otracker=AS_QueryStore_OrganicAutoSuggest_1_7_na_na_na&otracker1=AS_QueryStore_OrganicAutoSuggest_1_7_na_na_na&as-pos=1&as-type=RECENT&suggestionId=apple+mobiles%7CMobiles&requestId=74513d15-9fcc-41ea-a7e0-16499e689ee3&as-backfill=on&otracker=nmenu_sub_Electronics_0_Apple&page=\"+str(i)\n",
    "    \n",
    "    # Send a GET request to the URL\n",
    "    req = requests.get(url)\n",
    "    \n",
    "    # Parse the HTML content of the response\n",
    "    content = BeautifulSoup(req.content, 'html.parser')\n",
    "    \n",
    "    # Find all elements with class '_4rR01T' (phone names)\n",
    "    name = content.find_all('div', {'class': '_4rR01T'})\n",
    "    \n",
    "    # Find all elements with class '_30jeq3 _1_WHN1' (selling prices)\n",
    "    price = content.find_all('div', {'class': '_30jeq3 _1_WHN1'})\n",
    "    \n",
    "    # Print the label indicating the current page number\n",
    "    print(\"Phone in page \"+str(i))\n",
    "    \n",
    "    # Print the number of phones in the current page\n",
    "    print(len(name))"
   ]
  },
  {
   "cell_type": "code",
   "execution_count": 35,
   "metadata": {},
   "outputs": [
    {
     "name": "stdout",
     "output_type": "stream",
     "text": [
      "Enter number of pages: 4\n",
      "Phone in page 1\n",
      "24\n",
      "Phone in page 2\n",
      "24\n",
      "Phone in page 3\n",
      "24\n",
      "Phone in page 4\n",
      "24\n"
     ]
    }
   ],
   "source": [
    "phone_name = [] # Initialize an empty list to store phone names\n",
    "phone_price = [] # Initialize an empty list to store phone prices\n",
    "\n",
    "# Prompt the user to input the number of pages\n",
    "page_number = input(\"Enter number of pages: \")\n",
    "\n",
    "# Iterate through the range from 1 to the input number of pages\n",
    "for i in range(1, int(page_number) + 1):\n",
    "    \n",
    "    # Construct the URL based on the current page number\n",
    "    url = \"https://www.flipkart.com/search?q=apple+mobiles&sid=tyy%2C4io&as=on&as-show=on&otracker=AS_QueryStore_OrganicAutoSuggest_1_7_na_na_na&otracker1=AS_QueryStore_OrganicAutoSuggest_1_7_na_na_na&as-pos=1&as-type=RECENT&suggestionId=apple+mobiles%7CMobiles&requestId=74513d15-9fcc-41ea-a7e0-16499e689ee3&as-backfill=on&otracker=nmenu_sub_Electronics_0_Apple&page=\"+str(i)\n",
    "    \n",
    "    # Send a GET request to the URL\n",
    "    req = requests.get(url)\n",
    "    \n",
    "    # Parse the HTML content of the response\n",
    "    content = BeautifulSoup(req.content, 'html.parser')\n",
    "    \n",
    "    # Find all elements with class '_4rR01T' (phone names)\n",
    "    name = content.find_all('div', {'class': '_4rR01T'})\n",
    "    \n",
    "    # Find all elements with class '_30jeq3 _1_WHN1' (selling prices)\n",
    "    price = content.find_all('div', {'class': '_30jeq3 _1_WHN1'})\n",
    "    \n",
    "    # Print the label indicating the current page number\n",
    "    print(\"Phone in page \"+str(i))\n",
    "    \n",
    "    # Print the number of phones in the current page\n",
    "    print(len(name))\n",
    "    \n",
    "    # Iterate through each phone name element and append its text to the 'phone_name' list\n",
    "    for i in name:\n",
    "        phone_name.append(i.text)\n",
    "\n",
    "    # Iterate through each phone price element and append its text to the 'phone_price' list\n",
    "    for i in price:\n",
    "        phone_price.append(i.text)\n",
    "    "
   ]
  },
  {
   "cell_type": "code",
   "execution_count": 36,
   "metadata": {},
   "outputs": [
    {
     "name": "stdout",
     "output_type": "stream",
     "text": [
      "₹67,999\n",
      "₹67,999\n",
      "₹56,999\n",
      "₹56,999\n",
      "₹67,999\n",
      "₹56,999\n",
      "₹56,999\n",
      "₹52,999\n",
      "₹52,999\n",
      "₹68,999\n",
      "₹52,999\n",
      "₹66,999\n",
      "₹52,999\n",
      "₹52,999\n",
      "₹56,999\n",
      "₹66,999\n",
      "₹66,999\n",
      "₹82,999\n",
      "₹66,999\n",
      "₹82,999\n",
      "₹96,999\n",
      "₹80,999\n",
      "₹82,999\n",
      "₹80,999\n",
      "₹68,999\n",
      "₹1,27,990\n",
      "₹1,58,990\n",
      "₹66,999\n",
      "₹80,999\n",
      "₹82,999\n",
      "₹1,27,990\n",
      "₹96,999\n",
      "₹1,37,990\n",
      "₹76,999\n",
      "₹1,58,990\n",
      "₹80,999\n",
      "₹92,999\n",
      "₹82,999\n",
      "₹1,37,990\n",
      "₹86,999\n",
      "₹44,999\n",
      "₹69,999\n",
      "₹57,999\n",
      "₹44,999\n",
      "₹44,999\n",
      "₹43,900\n",
      "₹76,999\n",
      "₹69,999\n",
      "₹96,999\n",
      "₹1,48,900\n",
      "₹92,999\n",
      "₹43,900\n",
      "₹92,999\n",
      "₹1,12,999\n",
      "₹1,37,990\n",
      "₹44,999\n",
      "₹43,900\n",
      "₹1,48,900\n",
      "₹48,900\n",
      "₹1,77,990\n",
      "₹1,48,900\n",
      "₹50,999\n",
      "₹1,27,990\n",
      "₹1,77,990\n",
      "₹86,999\n",
      "₹69,999\n",
      "₹80,999\n",
      "₹69,999\n",
      "₹92,999\n",
      "₹1,58,990\n",
      "₹1,77,990\n",
      "₹1,12,999\n",
      "₹76,999\n",
      "₹1,77,990\n",
      "₹96,999\n",
      "₹97,999\n",
      "₹86,999\n",
      "₹59,900\n",
      "₹97,999\n",
      "₹59,900\n",
      "₹97,999\n",
      "₹60,999\n",
      "₹43,900\n",
      "₹1,79,900\n",
      "₹48,900\n",
      "₹1,79,900\n",
      "₹1,12,999\n",
      "₹1,48,900\n",
      "₹64,900\n",
      "₹43,900\n",
      "₹48,900\n",
      "₹48,999\n",
      "₹1,12,999\n",
      "₹48,900\n",
      "₹1,37,990\n",
      "₹60,999\n"
     ]
    }
   ],
   "source": [
    "# Iterate through each item in the 'phone_price' list and print each item (representing the price of a phone)\n",
    "for i in phone_price:\n",
    "    print(i)"
   ]
  },
  {
   "cell_type": "code",
   "execution_count": 37,
   "metadata": {},
   "outputs": [
    {
     "name": "stdout",
     "output_type": "stream",
     "text": [
      "Apple iPhone 15 (Blue, 128 GB)\n",
      "Apple iPhone 15 (Green, 128 GB)\n",
      "Apple iPhone 14 (Blue, 128 GB)\n",
      "Apple iPhone 14 (Starlight, 128 GB)\n",
      "Apple iPhone 15 (Black, 128 GB)\n",
      "Apple iPhone 14 (Purple, 128 GB)\n",
      "Apple iPhone 14 (Midnight, 128 GB)\n",
      "Apple iPhone 13 (Pink, 128 GB)\n",
      "Apple iPhone 13 (Starlight, 128 GB)\n",
      "Apple iPhone 15 (Pink, 128 GB)\n",
      "Apple iPhone 13 (Green, 128 GB)\n",
      "Apple iPhone 14 Plus (Midnight, 128 GB)\n",
      "Apple iPhone 13 (Midnight, 128 GB)\n",
      "Apple iPhone 13 (Blue, 128 GB)\n",
      "Apple iPhone 14 ((PRODUCT)RED, 128 GB)\n",
      "Apple iPhone 14 Plus (Starlight, 128 GB)\n",
      "Apple iPhone 14 Plus (Blue, 128 GB)\n",
      "Apple iPhone 15 Plus (Green, 128 GB)\n",
      "Apple iPhone 14 Plus (Purple, 128 GB)\n",
      "Apple iPhone 15 Plus (Yellow, 128 GB)\n",
      "Apple iPhone 14 Plus (Yellow, 512 GB)\n",
      "Apple iPhone 15 (Pink, 256 GB)\n",
      "Apple iPhone 15 Plus (Black, 128 GB)\n",
      "Apple iPhone 15 (Green, 256 GB)\n",
      "Apple iPhone 15 (Yellow, 128 GB)\n",
      "Apple iPhone 15 Pro (White Titanium, 128 GB)\n",
      "Apple iPhone 15 Pro (Black Titanium, 512 GB)\n",
      "Apple iPhone 14 Plus (Yellow, 128 GB)\n",
      "Apple iPhone 15 (Black, 256 GB)\n",
      "Apple iPhone 15 Plus (Blue, 128 GB)\n",
      "Apple iPhone 15 Pro (Black Titanium, 128 GB)\n",
      "Apple iPhone 14 Plus (Starlight, 512 GB)\n",
      "Apple iPhone 15 Pro (Black Titanium, 256 GB)\n",
      "Apple iPhone 14 Plus (Starlight, 256 GB)\n",
      "Apple iPhone 15 Pro (White Titanium, 512 GB)\n",
      "Apple iPhone 15 (Blue, 256 GB)\n",
      "Apple iPhone 15 Plus (Pink, 256 GB)\n",
      "Apple iPhone 15 Plus (Pink, 128 GB)\n",
      "Apple iPhone 15 Pro (White Titanium, 256 GB)\n",
      "Apple iPhone 14 (Yellow, 512 GB)\n",
      "Apple iPhone 12 (Blue, 64 GB)\n",
      "Apple iPhone 14 (Purple, 256 GB)\n",
      "Apple iPhone 14 (Yellow, 128 GB)\n",
      "Apple iPhone 12 (Black, 64 GB)\n",
      "Apple iPhone 12 (White, 64 GB)\n",
      "Apple iPhone 11 (Red, 64 GB)\n",
      "Apple iPhone 14 Plus ((PRODUCT)RED, 256 GB)\n",
      "Apple iPhone 14 (Midnight, 256 GB)\n",
      "Apple iPhone 14 Plus ((PRODUCT)RED, 512 GB)\n",
      "Apple iPhone 15 Pro Max (Natural Titanium, 256 GB)\n",
      "Apple iPhone 15 Plus (Black, 256 GB)\n",
      "Apple iPhone 11 (Purple, 64 GB)\n",
      "Apple iPhone 15 Plus (Blue, 256 GB)\n",
      "Apple iPhone 15 Plus (Black, 512 GB)\n",
      "Apple iPhone 15 Pro (Blue Titanium, 256 GB)\n",
      "Apple iPhone 12 (Red, 64 GB)\n",
      "Apple iPhone 11 (Green, 64 GB)\n",
      "Apple iPhone 15 Pro Max (Blue Titanium, 256 GB)\n",
      "Apple iPhone 11 (Purple, 128 GB)\n",
      "Apple iPhone 15 Pro (Natural Titanium, 1 TB)\n",
      "Apple iPhone 15 Pro Max (White Titanium, 256 GB)\n",
      "Apple iPhone 12 (Blue, 128 GB)\n",
      "Apple iPhone 15 Pro (Natural Titanium, 128 GB)\n",
      "Apple iPhone 15 Pro (Black Titanium, 1 TB)\n",
      "Apple iPhone 14 ((PRODUCT)RED, 512 GB)\n",
      "Apple iPhone 14 (Blue, 256 GB)\n",
      "Apple iPhone 15 (Yellow, 256 GB)\n",
      "Apple iPhone 14 (Starlight, 256 GB)\n",
      "Apple iPhone 15 Plus (Yellow, 256 GB)\n",
      "Apple iPhone 15 Pro (Natural Titanium, 512 GB)\n",
      "Apple iPhone 15 Pro (White Titanium, 1 TB)\n",
      "Apple iPhone 15 Plus (Pink, 512 GB)\n",
      "Apple iPhone 14 Plus (Yellow, 256 GB)\n",
      "Apple iPhone 15 Pro (Blue Titanium, 1 TB)\n",
      "Apple iPhone 14 Plus (Blue, 512 GB)\n",
      "Apple iPhone 15 (Black, 512 GB)\n",
      "Apple iPhone 14 (Midnight, 512 GB)\n",
      "Apple iPhone 12 mini (Blue, 64 GB)\n",
      "Apple iPhone 15 (Blue, 512 GB)\n",
      "Apple iPhone 12 mini (Black, 64 GB)\n",
      "Apple iPhone 15 (Green, 512 GB)\n",
      "Apple iPhone 12 (Black, 256 GB)\n",
      "Apple iPhone 11 (Black, 64 GB)\n",
      "Apple iPhone 13 Pro Max (Alpine Green, 1 TB)\n",
      "Apple iPhone 11 (White, 128 GB)\n",
      "Apple iPhone 13 Pro Max (Silver, 1 TB)\n",
      "Apple iPhone 15 Plus (Blue, 512 GB)\n",
      "Apple iPhone 15 Pro Max (Black Titanium, 256 GB)\n",
      "Apple iPhone 13 ((PRODUCT)RED, 256 GB)\n",
      "Apple iPhone 11 (White, 64 GB)\n",
      "Apple iPhone 11 (Black, 128 GB)\n",
      "Apple iPhone 6 Plus (Silver, 64 GB)\n",
      "Apple iPhone 15 Plus (Yellow, 512 GB)\n",
      "Apple iPhone 11 (Green, 128 GB)\n",
      "Apple iPhone 15 Pro (Natural Titanium, 256 GB)\n",
      "Apple iPhone 12 (Purple, 256 GB)\n"
     ]
    }
   ],
   "source": [
    "# Iterate through each item in the 'phone_name' list and print each item\n",
    "for i in phone_name:\n",
    "    print(i)"
   ]
  },
  {
   "cell_type": "code",
   "execution_count": 38,
   "metadata": {},
   "outputs": [
    {
     "name": "stdout",
     "output_type": "stream",
     "text": [
      "                                        Phone_name Phone_Price\n",
      "0                   Apple iPhone 15 (Blue, 128 GB)     ₹67,999\n",
      "1                  Apple iPhone 15 (Green, 128 GB)     ₹67,999\n",
      "2                   Apple iPhone 14 (Blue, 128 GB)     ₹56,999\n",
      "3              Apple iPhone 14 (Starlight, 128 GB)     ₹56,999\n",
      "4                  Apple iPhone 15 (Black, 128 GB)     ₹67,999\n",
      "..                                             ...         ...\n",
      "91             Apple iPhone 6 Plus (Silver, 64 GB)     ₹48,999\n",
      "92           Apple iPhone 15 Plus (Yellow, 512 GB)   ₹1,12,999\n",
      "93                 Apple iPhone 11 (Green, 128 GB)     ₹48,900\n",
      "94  Apple iPhone 15 Pro (Natural Titanium, 256 GB)   ₹1,37,990\n",
      "95                Apple iPhone 12 (Purple, 256 GB)     ₹60,999\n",
      "\n",
      "[96 rows x 2 columns]\n"
     ]
    }
   ],
   "source": [
    "# Create a dictionary containing phone names and prices\n",
    "data = {\"Phone_name\":phone_name,\n",
    "       \"Phone_Price\": phone_price}\n",
    "\n",
    "# Create a DataFrame from the dictionary\n",
    "df = pd.DataFrame(data)\n",
    "\n",
    "# Print the DataFrame\n",
    "print(df)"
   ]
  }
 ],
 "metadata": {
  "kernelspec": {
   "display_name": "Python 3",
   "language": "python",
   "name": "python3"
  },
  "language_info": {
   "codemirror_mode": {
    "name": "ipython",
    "version": 3
   },
   "file_extension": ".py",
   "mimetype": "text/x-python",
   "name": "python",
   "nbconvert_exporter": "python",
   "pygments_lexer": "ipython3",
   "version": "3.6.9"
  }
 },
 "nbformat": 4,
 "nbformat_minor": 4
}
